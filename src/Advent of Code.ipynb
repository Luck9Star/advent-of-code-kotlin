{
 "cells": [
  {
   "cell_type": "code",
   "execution_count": null,
   "id": "64fe334a-ff14-4754-99f3-a7fc3490ff16",
   "metadata": {},
   "outputs": [],
   "source": [
    "#day01 part1\n",
    "from functools import reduce\n",
    "with open('Day01.txt') as f:\n",
    "    lines = f.readlines()\n",
    "    data = list(map(int, lines))\n",
    "    print(reduce(lambda a,b: a+b ,map(lambda x,y: 1 if y > x else 0, data, data[1:])))"
   ]
  },
  {
   "cell_type": "code",
   "execution_count": null,
   "id": "e42921c0-90c6-447f-9174-3a8589b18185",
   "metadata": {},
   "outputs": [],
   "source": [
    "import pandas as pd\n",
    "import numpy as np"
   ]
  },
  {
   "cell_type": "code",
   "execution_count": null,
   "id": "f484209e-12a0-49a2-8055-7084c80f8876",
   "metadata": {},
   "outputs": [],
   "source": [
    "#day01 part2\n",
    "with open('Day01.txt') as f:\n",
    "    lines = f.readlines()\n",
    "    data = list(map(int, lines))\n",
    "    print(reduce(lambda a,b: a+b ,map(lambda a,b,c,d: 1 if b+c+d > a+b+c else 0, data, data[1:],data[2:],data[3:])))"
   ]
  },
  {
   "cell_type": "code",
   "execution_count": null,
   "id": "c60d9506-cf62-4023-8f37-56fa280b2479",
   "metadata": {},
   "outputs": [],
   "source": [
    "#day02 part1\n",
    "df = pd.read_csv('Day02.txt', sep=' ', names=['cmd', 'value'])\n",
    "cmd = df['value'].groupby(df['cmd']).sum()\n",
    "cmd.forward * (cmd.down - cmd.up)"
   ]
  },
  {
   "cell_type": "code",
   "execution_count": null,
   "id": "0b507d1d-d45d-407e-aaad-de998ee46e64",
   "metadata": {},
   "outputs": [],
   "source": [
    "#day02 part2\n",
    "df = pd.read_csv('Day02.txt', sep=' ', names=['cmd', 'value'])\n",
    "df['tmp_depth'] = df.apply(lambda x: -x['value'] if 'up' == x['cmd'] else 0 if 'forward' == x['cmd'] else  x['value'], axis=1).cumsum()\n",
    "df['depth'] = df.apply(lambda x: x.value * x.tmp_depth if 'forward' == x['cmd'] else 0, axis=1)\n",
    "df[df['cmd']=='forward']['value'].sum() * df['depth'].sum()"
   ]
  },
  {
   "cell_type": "code",
   "execution_count": null,
   "id": "561e0ebf-367f-497a-aa58-2fec262ec872",
   "metadata": {},
   "outputs": [],
   "source": [
    "#day02 part1\n",
    "with open('Day03.txt') as f:\n",
    "    lines = f.readlines()\n",
    "    data = list(map(list, lines))\n",
    "    df = pd.DataFrame(data)\n",
    "    gamma =np.array( [ df.loc[:,i].astype(\"int64\").value_counts().idxmax() for i in range(df.shape[1] - 1) ])\n",
    "    epsilon = np.array([1-i for i in gamma])\n",
    "    gamma = gamma.dot(2**np.arange(gamma.size)[::-1])\n",
    "    epsilon = epsilon.dot(2**np.arange(epsilon.size)[::-1])\n",
    "    print(gamma * epsilon)\n",
    "    "
   ]
  },
  {
   "cell_type": "code",
   "execution_count": null,
   "id": "4c7e20b3-19c8-4e26-975d-98e827309547",
   "metadata": {},
   "outputs": [],
   "source": [
    "def day2func(df, index = 0, bigger = True):\n",
    "    value_counts = df.loc[:,index].value_counts()\n",
    "    idxmax = \"1\" if value_counts[0] == value_counts[1] else value_counts.idxmax()\n",
    "    new_df = df[df[index] == idxmax if bigger else df[index] == str(1 - int(idxmax))]\n",
    "    if new_df.shape[0] == 1:\n",
    "        return new_df\n",
    "    else:\n",
    "        return day2func(new_df, index = index + 1, bigger = bigger)\n",
    "\n",
    "with open('Day03.txt') as f:\n",
    "    lines = f.readlines()\n",
    "    data = list(map(list, lines))\n",
    "    df = pd.DataFrame(data)\n",
    "    gamma = day2func(df)\n",
    "    epsilon = day2func(df, bigger = False)\n",
    "    gamma = gamma.iloc[0,0:-1].astype(\"int64\").to_numpy()\n",
    "    epsilon = epsilon.iloc[0,0:-1].astype(\"int64\").to_numpy()\n",
    "    gamma = gamma.dot(2**np.arange(gamma.size)[::-1])\n",
    "    epsilon = epsilon.dot(2**np.arange(epsilon.size)[::-1])\n",
    "    print(gamma * epsilon)"
   ]
  },
  {
   "cell_type": "code",
   "execution_count": null,
   "id": "ffbaa870-b457-49dd-9e0d-77785053aedb",
   "metadata": {},
   "outputs": [],
   "source": []
  },
  {
   "cell_type": "code",
   "execution_count": null,
   "id": "a5cb5b98-930e-47e8-947b-a2d5c2cdfa7d",
   "metadata": {},
   "outputs": [],
   "source": []
  }
 ],
 "metadata": {
  "kernelspec": {
   "display_name": "Python 3 (ipykernel)",
   "language": "python",
   "name": "python3"
  },
  "language_info": {
   "codemirror_mode": {
    "name": "ipython",
    "version": 3
   },
   "file_extension": ".py",
   "mimetype": "text/x-python",
   "name": "python",
   "nbconvert_exporter": "python",
   "pygments_lexer": "ipython3",
   "version": "3.9.7"
  }
 },
 "nbformat": 4,
 "nbformat_minor": 5
}
